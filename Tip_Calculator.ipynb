{
  "nbformat": 4,
  "nbformat_minor": 0,
  "metadata": {
    "colab": {
      "name": "Tip Calculator.ipynb",
      "provenance": []
    },
    "kernelspec": {
      "name": "python3",
      "display_name": "Python 3"
    },
    "language_info": {
      "name": "python"
    }
  },
  "cells": [
    {
      "cell_type": "code",
      "execution_count": 2,
      "metadata": {
        "colab": {
          "base_uri": "https://localhost:8080/"
        },
        "id": "lvSlRGLPTDXg",
        "outputId": "e3822c4d-1b1a-4767-b001-5a5e0960947c"
      },
      "outputs": [
        {
          "output_type": "stream",
          "name": "stdout",
          "text": [
            "Welcome to Tip calculator! \n",
            "What was the total bill?  RS1000\n",
            "What percentage of tip you want to give? 5, 8 or 10 10\n",
            "How many people are there to split the bill 2\n",
            "Each person need to pay :  RS 550.0 \n"
          ]
        }
      ],
      "source": [
        "print(\"Welcome to Tip calculator! \")\n",
        "\n",
        "bill = float(input(\"What was the total bill?  RS\"))\n",
        "\n",
        "tip = int(input(\"What percentage of tip you want to give? 5, 8 or 10 \"))\n",
        "\n",
        "people = int(input(\"How many people are there to split the bill \"))\n",
        "\n",
        "bill_as_tip = tip / 100*bill + bill\n",
        "\n",
        "bill_per_person = bill_as_tip / people\n",
        "\n",
        "final_amount = round(bill_per_person, 2)\n",
        "\n",
        "print(f\"Each person need to pay :  RS {final_amount} \")\n"
      ]
    },
    {
      "cell_type": "code",
      "source": [
        ""
      ],
      "metadata": {
        "id": "N9DiUuXjVU9j"
      },
      "execution_count": null,
      "outputs": []
    }
  ]
}